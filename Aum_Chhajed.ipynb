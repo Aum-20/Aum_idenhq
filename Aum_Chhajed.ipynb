{
  "nbformat": 4,
  "nbformat_minor": 0,
  "metadata": {
    "colab": {
      "provenance": [],
      "authorship_tag": "ABX9TyOtPX5Ot+XmRtouvI2eZ7Mp",
      "include_colab_link": true
    },
    "kernelspec": {
      "name": "python3",
      "display_name": "Python 3"
    },
    "language_info": {
      "name": "python"
    }
  },
  "cells": [
    {
      "cell_type": "markdown",
      "metadata": {
        "id": "view-in-github",
        "colab_type": "text"
      },
      "source": [
        "<a href=\"https://colab.research.google.com/github/Aum-20/Aum_idenhq/blob/main/Aum_Chhajed.ipynb\" target=\"_parent\"><img src=\"https://colab.research.google.com/assets/colab-badge.svg\" alt=\"Open In Colab\"/></a>"
      ]
    },
    {
      "cell_type": "code",
      "execution_count": 1,
      "metadata": {
        "colab": {
          "base_uri": "https://localhost:8080/"
        },
        "id": "3lkOjQC6cqY6",
        "outputId": "988b69dc-c8b9-4217-c8f5-5eaf0f704f6a"
      },
      "outputs": [
        {
          "output_type": "stream",
          "name": "stdout",
          "text": [
            "Collecting playwright\n",
            "  Downloading playwright-1.51.0-py3-none-manylinux1_x86_64.whl.metadata (3.5 kB)\n",
            "Collecting pyee<13,>=12 (from playwright)\n",
            "  Downloading pyee-12.1.1-py3-none-any.whl.metadata (2.9 kB)\n",
            "Requirement already satisfied: greenlet<4.0.0,>=3.1.1 in /usr/local/lib/python3.11/dist-packages (from playwright) (3.2.0)\n",
            "Requirement already satisfied: typing-extensions in /usr/local/lib/python3.11/dist-packages (from pyee<13,>=12->playwright) (4.13.2)\n",
            "Downloading playwright-1.51.0-py3-none-manylinux1_x86_64.whl (45.2 MB)\n",
            "\u001b[2K   \u001b[90m━━━━━━━━━━━━━━━━━━━━━━━━━━━━━━━━━━━━━━━━\u001b[0m \u001b[32m45.2/45.2 MB\u001b[0m \u001b[31m19.1 MB/s\u001b[0m eta \u001b[36m0:00:00\u001b[0m\n",
            "\u001b[?25hDownloading pyee-12.1.1-py3-none-any.whl (15 kB)\n",
            "Installing collected packages: pyee, playwright\n",
            "Successfully installed playwright-1.51.0 pyee-12.1.1\n"
          ]
        }
      ],
      "source": [
        "!pip install playwright"
      ]
    },
    {
      "cell_type": "code",
      "source": [
        "!playwright install chromium"
      ],
      "metadata": {
        "colab": {
          "base_uri": "https://localhost:8080/"
        },
        "id": "-rgA6uxKcx0M",
        "outputId": "b5e6e703-640d-46c1-be2e-aca2e43e43c0"
      },
      "execution_count": 2,
      "outputs": [
        {
          "output_type": "stream",
          "name": "stdout",
          "text": [
            "Downloading Chromium 134.0.6998.35 (playwright build v1161)\u001b[2m from https://cdn.playwright.dev/dbazure/download/playwright/builds/chromium/1161/chromium-linux.zip\u001b[22m\n",
            "\u001b[1G164.9 MiB [] 0% 0.0s\u001b[0K\u001b[1G164.9 MiB [] 0% 279.4s\u001b[0K\u001b[1G164.9 MiB [] 0% 262.2s\u001b[0K\u001b[1G164.9 MiB [] 0% 167.7s\u001b[0K\u001b[1G164.9 MiB [] 0% 156.3s\u001b[0K\u001b[1G164.9 MiB [] 0% 116.7s\u001b[0K\u001b[1G164.9 MiB [] 0% 99.9s\u001b[0K\u001b[1G164.9 MiB [] 0% 84.3s\u001b[0K\u001b[1G164.9 MiB [] 0% 86.8s\u001b[0K\u001b[1G164.9 MiB [] 0% 83.9s\u001b[0K\u001b[1G164.9 MiB [] 0% 51.9s\u001b[0K\u001b[1G164.9 MiB [] 0% 39.3s\u001b[0K\u001b[1G164.9 MiB [] 0% 39.9s\u001b[0K\u001b[1G164.9 MiB [] 1% 26.7s\u001b[0K\u001b[1G164.9 MiB [] 1% 23.5s\u001b[0K\u001b[1G164.9 MiB [] 1% 21.9s\u001b[0K\u001b[1G164.9 MiB [] 2% 18.9s\u001b[0K\u001b[1G164.9 MiB [] 2% 19.1s\u001b[0K\u001b[1G164.9 MiB [] 2% 18.8s\u001b[0K\u001b[1G164.9 MiB [] 2% 17.6s\u001b[0K\u001b[1G164.9 MiB [] 2% 16.7s\u001b[0K\u001b[1G164.9 MiB [] 3% 15.7s\u001b[0K\u001b[1G164.9 MiB [] 3% 13.9s\u001b[0K\u001b[1G164.9 MiB [] 3% 13.8s\u001b[0K\u001b[1G164.9 MiB [] 3% 13.7s\u001b[0K\u001b[1G164.9 MiB [] 3% 13.6s\u001b[0K\u001b[1G164.9 MiB [] 4% 12.3s\u001b[0K\u001b[1G164.9 MiB [] 5% 11.2s\u001b[0K\u001b[1G164.9 MiB [] 5% 10.5s\u001b[0K\u001b[1G164.9 MiB [] 5% 9.9s\u001b[0K\u001b[1G164.9 MiB [] 6% 9.3s\u001b[0K\u001b[1G164.9 MiB [] 6% 9.6s\u001b[0K\u001b[1G164.9 MiB [] 6% 9.5s\u001b[0K\u001b[1G164.9 MiB [] 7% 9.3s\u001b[0K\u001b[1G164.9 MiB [] 7% 9.4s\u001b[0K\u001b[1G164.9 MiB [] 7% 9.3s\u001b[0K\u001b[1G164.9 MiB [] 8% 9.0s\u001b[0K\u001b[1G164.9 MiB [] 8% 8.6s\u001b[0K\u001b[1G164.9 MiB [] 8% 8.4s\u001b[0K\u001b[1G164.9 MiB [] 9% 8.3s\u001b[0K\u001b[1G164.9 MiB [] 9% 8.4s\u001b[0K\u001b[1G164.9 MiB [] 10% 8.1s\u001b[0K\u001b[1G164.9 MiB [] 10% 8.0s\u001b[0K\u001b[1G164.9 MiB [] 10% 7.9s\u001b[0K\u001b[1G164.9 MiB [] 11% 7.7s\u001b[0K\u001b[1G164.9 MiB [] 11% 7.4s\u001b[0K\u001b[1G164.9 MiB [] 12% 7.2s\u001b[0K\u001b[1G164.9 MiB [] 13% 7.1s\u001b[0K\u001b[1G164.9 MiB [] 13% 7.0s\u001b[0K\u001b[1G164.9 MiB [] 13% 7.1s\u001b[0K\u001b[1G164.9 MiB [] 14% 7.0s\u001b[0K\u001b[1G164.9 MiB [] 14% 6.9s\u001b[0K\u001b[1G164.9 MiB [] 15% 6.7s\u001b[0K\u001b[1G164.9 MiB [] 16% 6.5s\u001b[0K\u001b[1G164.9 MiB [] 16% 6.4s\u001b[0K\u001b[1G164.9 MiB [] 17% 6.4s\u001b[0K\u001b[1G164.9 MiB [] 17% 6.3s\u001b[0K\u001b[1G164.9 MiB [] 17% 6.2s\u001b[0K\u001b[1G164.9 MiB [] 18% 6.1s\u001b[0K\u001b[1G164.9 MiB [] 18% 6.0s\u001b[0K\u001b[1G164.9 MiB [] 19% 5.9s\u001b[0K\u001b[1G164.9 MiB [] 20% 5.7s\u001b[0K\u001b[1G164.9 MiB [] 20% 5.6s\u001b[0K\u001b[1G164.9 MiB [] 21% 5.4s\u001b[0K\u001b[1G164.9 MiB [] 22% 5.3s\u001b[0K\u001b[1G164.9 MiB [] 22% 5.2s\u001b[0K\u001b[1G164.9 MiB [] 23% 5.2s\u001b[0K\u001b[1G164.9 MiB [] 23% 5.1s\u001b[0K\u001b[1G164.9 MiB [] 24% 5.0s\u001b[0K\u001b[1G164.9 MiB [] 25% 4.8s\u001b[0K\u001b[1G164.9 MiB [] 25% 4.7s\u001b[0K\u001b[1G164.9 MiB [] 26% 4.6s\u001b[0K\u001b[1G164.9 MiB [] 27% 4.4s\u001b[0K\u001b[1G164.9 MiB [] 28% 4.5s\u001b[0K\u001b[1G164.9 MiB [] 28% 4.4s\u001b[0K\u001b[1G164.9 MiB [] 29% 4.3s\u001b[0K\u001b[1G164.9 MiB [] 30% 4.2s\u001b[0K\u001b[1G164.9 MiB [] 31% 4.0s\u001b[0K\u001b[1G164.9 MiB [] 32% 3.9s\u001b[0K\u001b[1G164.9 MiB [] 33% 3.7s\u001b[0K\u001b[1G164.9 MiB [] 34% 3.6s\u001b[0K\u001b[1G164.9 MiB [] 35% 3.5s\u001b[0K\u001b[1G164.9 MiB [] 35% 3.4s\u001b[0K\u001b[1G164.9 MiB [] 36% 3.4s\u001b[0K\u001b[1G164.9 MiB [] 37% 3.3s\u001b[0K\u001b[1G164.9 MiB [] 38% 3.2s\u001b[0K\u001b[1G164.9 MiB [] 38% 3.1s\u001b[0K\u001b[1G164.9 MiB [] 39% 3.0s\u001b[0K\u001b[1G164.9 MiB [] 40% 3.0s\u001b[0K\u001b[1G164.9 MiB [] 41% 2.9s\u001b[0K\u001b[1G164.9 MiB [] 42% 2.8s\u001b[0K\u001b[1G164.9 MiB [] 43% 2.7s\u001b[0K\u001b[1G164.9 MiB [] 44% 2.7s\u001b[0K\u001b[1G164.9 MiB [] 44% 2.6s\u001b[0K\u001b[1G164.9 MiB [] 45% 2.6s\u001b[0K\u001b[1G164.9 MiB [] 46% 2.5s\u001b[0K\u001b[1G164.9 MiB [] 47% 2.4s\u001b[0K\u001b[1G164.9 MiB [] 48% 2.4s\u001b[0K\u001b[1G164.9 MiB [] 49% 2.3s\u001b[0K\u001b[1G164.9 MiB [] 50% 2.2s\u001b[0K\u001b[1G164.9 MiB [] 51% 2.2s\u001b[0K\u001b[1G164.9 MiB [] 51% 2.1s\u001b[0K\u001b[1G164.9 MiB [] 52% 2.1s\u001b[0K\u001b[1G164.9 MiB [] 53% 2.0s\u001b[0K\u001b[1G164.9 MiB [] 54% 2.0s\u001b[0K\u001b[1G164.9 MiB [] 55% 1.9s\u001b[0K\u001b[1G164.9 MiB [] 56% 1.9s\u001b[0K\u001b[1G164.9 MiB [] 57% 1.8s\u001b[0K\u001b[1G164.9 MiB [] 58% 1.7s\u001b[0K\u001b[1G164.9 MiB [] 59% 1.7s\u001b[0K\u001b[1G164.9 MiB [] 60% 1.7s\u001b[0K\u001b[1G164.9 MiB [] 61% 1.6s\u001b[0K\u001b[1G164.9 MiB [] 62% 1.5s\u001b[0K\u001b[1G164.9 MiB [] 63% 1.5s\u001b[0K\u001b[1G164.9 MiB [] 64% 1.4s\u001b[0K\u001b[1G164.9 MiB [] 65% 1.4s\u001b[0K\u001b[1G164.9 MiB [] 66% 1.3s\u001b[0K\u001b[1G164.9 MiB [] 67% 1.3s\u001b[0K\u001b[1G164.9 MiB [] 68% 1.3s\u001b[0K\u001b[1G164.9 MiB [] 68% 1.2s\u001b[0K\u001b[1G164.9 MiB [] 69% 1.2s\u001b[0K\u001b[1G164.9 MiB [] 70% 1.2s\u001b[0K\u001b[1G164.9 MiB [] 71% 1.1s\u001b[0K\u001b[1G164.9 MiB [] 72% 1.1s\u001b[0K\u001b[1G164.9 MiB [] 73% 1.0s\u001b[0K\u001b[1G164.9 MiB [] 74% 1.0s\u001b[0K\u001b[1G164.9 MiB [] 75% 1.0s\u001b[0K\u001b[1G164.9 MiB [] 75% 0.9s\u001b[0K\u001b[1G164.9 MiB [] 76% 0.9s\u001b[0K\u001b[1G164.9 MiB [] 77% 0.9s\u001b[0K\u001b[1G164.9 MiB [] 78% 0.8s\u001b[0K\u001b[1G164.9 MiB [] 79% 0.8s\u001b[0K\u001b[1G164.9 MiB [] 80% 0.7s\u001b[0K\u001b[1G164.9 MiB [] 81% 0.7s\u001b[0K\u001b[1G164.9 MiB [] 82% 0.7s\u001b[0K\u001b[1G164.9 MiB [] 83% 0.6s\u001b[0K\u001b[1G164.9 MiB [] 84% 0.6s\u001b[0K\u001b[1G164.9 MiB [] 85% 0.5s\u001b[0K\u001b[1G164.9 MiB [] 86% 0.5s\u001b[0K\u001b[1G164.9 MiB [] 87% 0.4s\u001b[0K\u001b[1G164.9 MiB [] 88% 0.4s\u001b[0K\u001b[1G164.9 MiB [] 89% 0.4s\u001b[0K\u001b[1G164.9 MiB [] 90% 0.4s\u001b[0K\u001b[1G164.9 MiB [] 90% 0.3s\u001b[0K\u001b[1G164.9 MiB [] 91% 0.3s\u001b[0K\u001b[1G164.9 MiB [] 92% 0.3s\u001b[0K\u001b[1G164.9 MiB [] 93% 0.2s\u001b[0K\u001b[1G164.9 MiB [] 94% 0.2s\u001b[0K\u001b[1G164.9 MiB [] 95% 0.2s\u001b[0K\u001b[1G164.9 MiB [] 96% 0.1s\u001b[0K\u001b[1G164.9 MiB [] 97% 0.1s\u001b[0K\u001b[1G164.9 MiB [] 98% 0.1s\u001b[0K\u001b[1G164.9 MiB [] 99% 0.0s\u001b[0K\u001b[1G164.9 MiB [] 100% 0.0s\u001b[0K\n",
            "Chromium 134.0.6998.35 (playwright build v1161) downloaded to /root/.cache/ms-playwright/chromium-1161\n",
            "Downloading FFMPEG playwright build v1011\u001b[2m from https://cdn.playwright.dev/dbazure/download/playwright/builds/ffmpeg/1011/ffmpeg-linux.zip\u001b[22m\n",
            "\u001b[1G2.3 MiB [] 0% 0.0s\u001b[0K\u001b[1G2.3 MiB [] 0% 2.3s\u001b[0K\u001b[1G2.3 MiB [] 1% 2.9s\u001b[0K\u001b[1G2.3 MiB [] 2% 3.2s\u001b[0K\u001b[1G2.3 MiB [] 4% 2.1s\u001b[0K\u001b[1G2.3 MiB [] 6% 1.9s\u001b[0K\u001b[1G2.3 MiB [] 8% 1.6s\u001b[0K\u001b[1G2.3 MiB [] 10% 1.4s\u001b[0K\u001b[1G2.3 MiB [] 13% 1.2s\u001b[0K\u001b[1G2.3 MiB [] 17% 0.9s\u001b[0K\u001b[1G2.3 MiB [] 21% 0.8s\u001b[0K\u001b[1G2.3 MiB [] 26% 0.7s\u001b[0K\u001b[1G2.3 MiB [] 32% 0.5s\u001b[0K\u001b[1G2.3 MiB [] 43% 0.4s\u001b[0K\u001b[1G2.3 MiB [] 54% 0.2s\u001b[0K\u001b[1G2.3 MiB [] 67% 0.1s\u001b[0K\u001b[1G2.3 MiB [] 83% 0.1s\u001b[0K\u001b[1G2.3 MiB [] 100% 0.0s\u001b[0K\n",
            "FFMPEG playwright build v1011 downloaded to /root/.cache/ms-playwright/ffmpeg-1011\n",
            "Downloading Chromium Headless Shell 134.0.6998.35 (playwright build v1161)\u001b[2m from https://cdn.playwright.dev/dbazure/download/playwright/builds/chromium/1161/chromium-headless-shell-linux.zip\u001b[22m\n",
            "\u001b[1G100.9 MiB [] 0% 0.0s\u001b[0K\u001b[1G100.9 MiB [] 0% 164.6s\u001b[0K\u001b[1G100.9 MiB [] 0% 169.4s\u001b[0K\u001b[1G100.9 MiB [] 0% 119.0s\u001b[0K\u001b[1G100.9 MiB [] 0% 104.9s\u001b[0K\u001b[1G100.9 MiB [] 0% 90.8s\u001b[0K\u001b[1G100.9 MiB [] 0% 80.4s\u001b[0K\u001b[1G100.9 MiB [] 0% 70.3s\u001b[0K\u001b[1G100.9 MiB [] 0% 60.2s\u001b[0K\u001b[1G100.9 MiB [] 0% 53.5s\u001b[0K\u001b[1G100.9 MiB [] 0% 47.6s\u001b[0K\u001b[1G100.9 MiB [] 0% 41.3s\u001b[0K\u001b[1G100.9 MiB [] 0% 34.8s\u001b[0K\u001b[1G100.9 MiB [] 1% 29.7s\u001b[0K\u001b[1G100.9 MiB [] 1% 25.2s\u001b[0K\u001b[1G100.9 MiB [] 1% 21.9s\u001b[0K\u001b[1G100.9 MiB [] 1% 18.7s\u001b[0K\u001b[1G100.9 MiB [] 2% 15.7s\u001b[0K\u001b[1G100.9 MiB [] 2% 13.3s\u001b[0K\u001b[1G100.9 MiB [] 3% 11.1s\u001b[0K\u001b[1G100.9 MiB [] 4% 9.5s\u001b[0K\u001b[1G100.9 MiB [] 5% 8.1s\u001b[0K\u001b[1G100.9 MiB [] 6% 6.5s\u001b[0K\u001b[1G100.9 MiB [] 7% 5.5s\u001b[0K\u001b[1G100.9 MiB [] 8% 5.1s\u001b[0K\u001b[1G100.9 MiB [] 10% 4.6s\u001b[0K\u001b[1G100.9 MiB [] 11% 4.3s\u001b[0K\u001b[1G100.9 MiB [] 11% 4.1s\u001b[0K\u001b[1G100.9 MiB [] 12% 4.0s\u001b[0K\u001b[1G100.9 MiB [] 14% 3.6s\u001b[0K\u001b[1G100.9 MiB [] 15% 3.3s\u001b[0K\u001b[1G100.9 MiB [] 16% 3.1s\u001b[0K\u001b[1G100.9 MiB [] 17% 3.0s\u001b[0K\u001b[1G100.9 MiB [] 18% 2.9s\u001b[0K\u001b[1G100.9 MiB [] 20% 2.7s\u001b[0K\u001b[1G100.9 MiB [] 20% 2.6s\u001b[0K\u001b[1G100.9 MiB [] 21% 2.5s\u001b[0K\u001b[1G100.9 MiB [] 23% 2.4s\u001b[0K\u001b[1G100.9 MiB [] 23% 2.5s\u001b[0K\u001b[1G100.9 MiB [] 25% 2.2s\u001b[0K\u001b[1G100.9 MiB [] 26% 2.1s\u001b[0K\u001b[1G100.9 MiB [] 27% 2.1s\u001b[0K\u001b[1G100.9 MiB [] 28% 2.0s\u001b[0K\u001b[1G100.9 MiB [] 30% 1.9s\u001b[0K\u001b[1G100.9 MiB [] 32% 1.8s\u001b[0K\u001b[1G100.9 MiB [] 33% 1.7s\u001b[0K\u001b[1G100.9 MiB [] 34% 1.7s\u001b[0K\u001b[1G100.9 MiB [] 36% 1.6s\u001b[0K\u001b[1G100.9 MiB [] 37% 1.5s\u001b[0K\u001b[1G100.9 MiB [] 38% 1.5s\u001b[0K\u001b[1G100.9 MiB [] 39% 1.4s\u001b[0K\u001b[1G100.9 MiB [] 41% 1.4s\u001b[0K\u001b[1G100.9 MiB [] 42% 1.3s\u001b[0K\u001b[1G100.9 MiB [] 43% 1.3s\u001b[0K\u001b[1G100.9 MiB [] 44% 1.3s\u001b[0K\u001b[1G100.9 MiB [] 46% 1.2s\u001b[0K\u001b[1G100.9 MiB [] 47% 1.2s\u001b[0K\u001b[1G100.9 MiB [] 49% 1.1s\u001b[0K\u001b[1G100.9 MiB [] 50% 1.1s\u001b[0K\u001b[1G100.9 MiB [] 51% 1.1s\u001b[0K\u001b[1G100.9 MiB [] 53% 1.0s\u001b[0K\u001b[1G100.9 MiB [] 54% 1.0s\u001b[0K\u001b[1G100.9 MiB [] 55% 0.9s\u001b[0K\u001b[1G100.9 MiB [] 57% 0.9s\u001b[0K\u001b[1G100.9 MiB [] 59% 0.8s\u001b[0K\u001b[1G100.9 MiB [] 60% 0.8s\u001b[0K\u001b[1G100.9 MiB [] 61% 0.8s\u001b[0K\u001b[1G100.9 MiB [] 63% 0.8s\u001b[0K\u001b[1G100.9 MiB [] 64% 0.7s\u001b[0K\u001b[1G100.9 MiB [] 65% 0.7s\u001b[0K\u001b[1G100.9 MiB [] 67% 0.7s\u001b[0K\u001b[1G100.9 MiB [] 68% 0.6s\u001b[0K\u001b[1G100.9 MiB [] 69% 0.6s\u001b[0K\u001b[1G100.9 MiB [] 70% 0.6s\u001b[0K\u001b[1G100.9 MiB [] 72% 0.5s\u001b[0K\u001b[1G100.9 MiB [] 73% 0.5s\u001b[0K\u001b[1G100.9 MiB [] 74% 0.5s\u001b[0K\u001b[1G100.9 MiB [] 76% 0.5s\u001b[0K\u001b[1G100.9 MiB [] 77% 0.4s\u001b[0K\u001b[1G100.9 MiB [] 78% 0.4s\u001b[0K\u001b[1G100.9 MiB [] 80% 0.4s\u001b[0K\u001b[1G100.9 MiB [] 81% 0.4s\u001b[0K\u001b[1G100.9 MiB [] 82% 0.3s\u001b[0K\u001b[1G100.9 MiB [] 83% 0.3s\u001b[0K\u001b[1G100.9 MiB [] 84% 0.3s\u001b[0K\u001b[1G100.9 MiB [] 86% 0.3s\u001b[0K\u001b[1G100.9 MiB [] 87% 0.2s\u001b[0K\u001b[1G100.9 MiB [] 88% 0.2s\u001b[0K\u001b[1G100.9 MiB [] 90% 0.2s\u001b[0K\u001b[1G100.9 MiB [] 91% 0.2s\u001b[0K\u001b[1G100.9 MiB [] 92% 0.1s\u001b[0K\u001b[1G100.9 MiB [] 93% 0.1s\u001b[0K\u001b[1G100.9 MiB [] 95% 0.1s\u001b[0K\u001b[1G100.9 MiB [] 96% 0.1s\u001b[0K\u001b[1G100.9 MiB [] 97% 0.1s\u001b[0K\u001b[1G100.9 MiB [] 98% 0.0s\u001b[0K\u001b[1G100.9 MiB [] 99% 0.0s\u001b[0K\u001b[1G100.9 MiB [] 100% 0.0s\u001b[0K\n",
            "Chromium Headless Shell 134.0.6998.35 (playwright build v1161) downloaded to /root/.cache/ms-playwright/chromium_headless_shell-1161\n"
          ]
        }
      ]
    },
    {
      "cell_type": "code",
      "source": [
        "import asyncio\n",
        "import json\n",
        "import os\n",
        "from playwright.async_api import async_playwright, TimeoutError\n",
        "import nest_asyncio\n",
        "\n",
        "# Apply nest_asyncio to allow nested event loops\n",
        "nest_asyncio.apply()\n",
        "\n",
        "async def main():\n",
        "    session_file = \"session.json\"\n",
        "    output_file = \"product_data.json\"\n",
        "\n",
        "    email = \"chhajed.aum@gmail.com\"\n",
        "    password = \"JGSMDiux\"\n",
        "\n",
        "    async with async_playwright() as p:\n",
        "        browser = await p.chromium.launch(headless=True)\n",
        "        context = await browser.new_context()\n",
        "\n",
        "        session_exists = False\n",
        "        if os.path.exists(session_file):\n",
        "            try:\n",
        "                with open(session_file, \"r\") as f:\n",
        "                    storage_state = json.load(f)\n",
        "                    await context.set_storage_state(state=storage_state)\n",
        "                    session_exists = True\n",
        "                    print(\"Using existing session.\")\n",
        "            except Exception as e:\n",
        "                print(f\"Error loading session: {e}\")\n",
        "\n",
        "        page = await context.new_page()\n",
        "        print(\"Navigating to challenge page...\")\n",
        "        await page.goto(\"https://hiring.idenhq.com\")\n",
        "\n",
        "        # Increase timeout for wait_for_selector to 120 seconds\n",
        "        if not session_exists or await page.is_visible(\"text=Sign in\"):\n",
        "            print(\"No valid session found. Logging in...\")\n",
        "            await page.wait_for_selector(\"input[type='email']\", timeout=120000)  # Increased timeout\n",
        "            await page.fill(\"input[type='email']\", email)\n",
        "            await page.fill(\"input[type='password']\", password)\n",
        "            await page.click(\"button:has-text('Sign in')\")\n",
        "            await page.wait_for_load_state(\"networkidle\")\n",
        "\n",
        "            storage_state = await context.storage_state()\n",
        "            with open(session_file, \"w\") as f:\n",
        "                f.write(json.dumps(storage_state))\n",
        "            print(\"Session saved.\")\n",
        "\n",
        "        # Save screenshot after login\n",
        "        await page.screenshot(path=\"after_login.png\")\n",
        "        print(\"Screenshot taken after login.\")\n",
        "\n",
        "        try:\n",
        "\n",
        "            print(\"Clicking 'Launch'...\")\n",
        "            await page.click(\"button:has-text('Launch Challenge')\", timeout=120000)\n",
        "\n",
        "            print(\"Clicking 'Open Dashboard Menu'...\")\n",
        "            await page.click(\"button:has-text('Open Dashboard Menu')\", timeout=120000)\n",
        "\n",
        "            print(\"Clicking 'Data Tools'...\")\n",
        "            await page.click(\"text=Data Tools\", timeout=120000)\n",
        "\n",
        "            print(\"Clicking 'Data Tools'...\")\n",
        "            await page.click(\"text=Data Tools\", timeout=120000)\n",
        "\n",
        "            print(\"Clicking 'Inventory Options'...\")\n",
        "            await page.wait_for_selector(\"button:has-text('Inventory Options')\", timeout=120000)\n",
        "            await page.click(\"button:has-text('Inventory Options')\")\n",
        "\n",
        "            print(\"Clicking 'Open Products Drawer'...\")\n",
        "            await page.click(\"text=Open Products Drawer\", timeout=120000)\n",
        "\n",
        "    # Wait for the table to load (increased timeout)\n",
        "            await page.wait_for_selector(\".product-table\", timeout=300000)\n",
        "        except TimeoutError as te:\n",
        "            await page.screenshot(path=\"timeout_error.png\")\n",
        "            print(f\"Timeout occurred: {te}\")\n",
        "            print(\"Saved screenshot to 'timeout_error.png' for debugging.\")\n",
        "            await browser.close()\n",
        "            return\n",
        "\n",
        "        all_products = []\n",
        "\n",
        "        async def extract_products():\n",
        "            return await page.evaluate(\"\"\"() => {\n",
        "                const products = [];\n",
        "                const rows = document.querySelectorAll('.product-row');\n",
        "                rows.forEach(row => {\n",
        "                    const product = {};\n",
        "                    product.id = row.querySelector('.product-id') ? row.querySelector('.product-id').textContent.trim() : '';\n",
        "                    product.name = row.querySelector('.product-name') ? row.querySelector('.product-name').textContent.trim() : '';\n",
        "                    product.category = row.querySelector('.product-category') ? row.querySelector('.product-category').textContent.trim() : '';\n",
        "                    product.composition = row.querySelector('.product-composition') ? row.querySelector('.product-composition').textContent.trim() : '';\n",
        "                    product.weight = row.querySelector('.product-weight') ? parseFloat(row.querySelector('.product-weight').textContent.trim()) : 0;\n",
        "                    product.cost = row.querySelector('.product-cost') ? parseFloat(row.querySelector('.product-cost').textContent.trim().replace('$', '')) : 0;\n",
        "                    product.manufacturer = row.querySelector('.product-manufacturer') ? row.querySelector('.product-manufacturer').textContent.trim() : '';\n",
        "                    product.shade = row.querySelector('.product-shade') ? row.querySelector('.product-shade').textContent.trim() : '';\n",
        "                    product.guarantee = row.querySelector('.product-guarantee') ? row.querySelector('.product-guarantee').textContent.trim() : '';\n",
        "                    product.updated = row.querySelector('.product-updated') ? row.querySelector('.product-updated').textContent.trim() : '';\n",
        "                    products.push(product);\n",
        "                });\n",
        "                return products;\n",
        "            }\"\"\")\n",
        "\n",
        "        print(\"Checking for pagination...\")\n",
        "        has_pagination = await page.is_visible(\".pagination\")\n",
        "\n",
        "        if has_pagination:\n",
        "            while True:\n",
        "                products = await extract_products()\n",
        "                all_products.extend(products)\n",
        "                if await page.is_visible(\"button.next-page:not([disabled])\"):\n",
        "                    await page.click(\"button.next-page\")\n",
        "                    await page.wait_for_load_state(\"networkidle\")\n",
        "                else:\n",
        "                    break\n",
        "        else:\n",
        "            # Extract products if no pagination\n",
        "            products = await extract_products()\n",
        "            all_products.extend(products)\n",
        "\n",
        "        # Save extracted data to output file\n",
        "        with open(output_file, \"w\") as f:\n",
        "            json.dump(all_products, f, indent=2)\n",
        "\n",
        "        print(f\"Successfully extracted {len(all_products)} products to {output_file}\")\n",
        "        await browser.close()\n",
        "\n",
        "# For Jupyter notebooks\n",
        "await main()"
      ],
      "metadata": {
        "colab": {
          "base_uri": "https://localhost:8080/"
        },
        "id": "MT3nsi7dc_RN",
        "outputId": "531b19bc-2aed-4863-b008-df375fb9b8e6"
      },
      "execution_count": 5,
      "outputs": [
        {
          "output_type": "stream",
          "name": "stdout",
          "text": [
            "Error loading session: 'BrowserContext' object has no attribute 'set_storage_state'\n",
            "Navigating to challenge page...\n",
            "No valid session found. Logging in...\n",
            "Session saved.\n",
            "Screenshot taken after login.\n",
            "Clicking 'Launch'...\n",
            "Clicking 'Open Dashboard Menu'...\n",
            "Clicking 'Data Tools'...\n",
            "Clicking 'Data Tools'...\n",
            "Clicking 'Inventory Options'...\n",
            "Clicking 'Open Products Drawer'...\n",
            "Timeout occurred: Page.wait_for_selector: Timeout 300000ms exceeded.\n",
            "Call log:\n",
            "  - waiting for locator(\".product-table\") to be visible\n",
            "\n",
            "Saved screenshot to 'timeout_error.png' for debugging.\n"
          ]
        }
      ]
    }
  ]
}