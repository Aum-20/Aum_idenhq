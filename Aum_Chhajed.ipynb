{
  "nbformat": 4,
  "nbformat_minor": 0,
  "metadata": {
    "colab": {
      "provenance": [],
      "authorship_tag": "ABX9TyM+nxqYdgu/Nn3tN9nvYByg",
      "include_colab_link": true
    },
    "kernelspec": {
      "name": "python3",
      "display_name": "Python 3"
    },
    "language_info": {
      "name": "python"
    }
  },
  "cells": [
    {
      "cell_type": "markdown",
      "metadata": {
        "id": "view-in-github",
        "colab_type": "text"
      },
      "source": [
        "<a href=\"https://colab.research.google.com/github/Aum-20/Aum_idenhq/blob/main/Aum_Chhajed.ipynb\" target=\"_parent\"><img src=\"https://colab.research.google.com/assets/colab-badge.svg\" alt=\"Open In Colab\"/></a>"
      ]
    },
    {
      "cell_type": "code",
      "execution_count": 6,
      "metadata": {
        "colab": {
          "base_uri": "https://localhost:8080/"
        },
        "id": "3lkOjQC6cqY6",
        "outputId": "429782ef-0e58-4907-89dc-e5629d67f9a1"
      },
      "outputs": [
        {
          "output_type": "stream",
          "name": "stdout",
          "text": [
            "Collecting playwright\n",
            "  Downloading playwright-1.51.0-py3-none-manylinux1_x86_64.whl.metadata (3.5 kB)\n",
            "Collecting pyee<13,>=12 (from playwright)\n",
            "  Downloading pyee-12.1.1-py3-none-any.whl.metadata (2.9 kB)\n",
            "Requirement already satisfied: greenlet<4.0.0,>=3.1.1 in /usr/local/lib/python3.11/dist-packages (from playwright) (3.2.0)\n",
            "Requirement already satisfied: typing-extensions in /usr/local/lib/python3.11/dist-packages (from pyee<13,>=12->playwright) (4.13.2)\n",
            "Downloading playwright-1.51.0-py3-none-manylinux1_x86_64.whl (45.2 MB)\n",
            "\u001b[2K   \u001b[90m━━━━━━━━━━━━━━━━━━━━━━━━━━━━━━━━━━━━━━━━\u001b[0m \u001b[32m45.2/45.2 MB\u001b[0m \u001b[31m19.3 MB/s\u001b[0m eta \u001b[36m0:00:00\u001b[0m\n",
            "\u001b[?25hDownloading pyee-12.1.1-py3-none-any.whl (15 kB)\n",
            "Installing collected packages: pyee, playwright\n",
            "Successfully installed playwright-1.51.0 pyee-12.1.1\n"
          ]
        }
      ],
      "source": [
        "!pip install playwright"
      ]
    },
    {
      "cell_type": "code",
      "source": [
        "!playwright install chromium"
      ],
      "metadata": {
        "colab": {
          "base_uri": "https://localhost:8080/"
        },
        "id": "-rgA6uxKcx0M",
        "outputId": "24de74e3-3097-4d76-c24e-f624130da56c"
      },
      "execution_count": 7,
      "outputs": [
        {
          "output_type": "stream",
          "name": "stdout",
          "text": [
            "Downloading Chromium 134.0.6998.35 (playwright build v1161)\u001b[2m from https://cdn.playwright.dev/dbazure/download/playwright/builds/chromium/1161/chromium-linux.zip\u001b[22m\n",
            "\u001b[1G164.9 MiB [] 0% 0.0s\u001b[0K\u001b[1G164.9 MiB [] 0% 28.5s\u001b[0K\u001b[1G164.9 MiB [] 0% 8.0s\u001b[0K\u001b[1G164.9 MiB [] 0% 6.1s\u001b[0K\u001b[1G164.9 MiB [] 1% 4.2s\u001b[0K\u001b[1G164.9 MiB [] 1% 4.1s\u001b[0K\u001b[1G164.9 MiB [] 2% 3.9s\u001b[0K\u001b[1G164.9 MiB [] 2% 3.7s\u001b[0K\u001b[1G164.9 MiB [] 3% 3.7s\u001b[0K\u001b[1G164.9 MiB [] 4% 3.5s\u001b[0K\u001b[1G164.9 MiB [] 4% 3.3s\u001b[0K\u001b[1G164.9 MiB [] 5% 3.1s\u001b[0K\u001b[1G164.9 MiB [] 6% 3.0s\u001b[0K\u001b[1G164.9 MiB [] 6% 3.3s\u001b[0K\u001b[1G164.9 MiB [] 6% 3.7s\u001b[0K\u001b[1G164.9 MiB [] 6% 3.8s\u001b[0K\u001b[1G164.9 MiB [] 6% 4.0s\u001b[0K\u001b[1G164.9 MiB [] 7% 4.1s\u001b[0K\u001b[1G164.9 MiB [] 7% 4.2s\u001b[0K\u001b[1G164.9 MiB [] 8% 4.2s\u001b[0K\u001b[1G164.9 MiB [] 8% 4.0s\u001b[0K\u001b[1G164.9 MiB [] 9% 4.0s\u001b[0K\u001b[1G164.9 MiB [] 9% 4.1s\u001b[0K\u001b[1G164.9 MiB [] 10% 4.1s\u001b[0K\u001b[1G164.9 MiB [] 10% 4.0s\u001b[0K\u001b[1G164.9 MiB [] 11% 4.0s\u001b[0K\u001b[1G164.9 MiB [] 11% 3.9s\u001b[0K\u001b[1G164.9 MiB [] 12% 3.9s\u001b[0K\u001b[1G164.9 MiB [] 13% 3.8s\u001b[0K\u001b[1G164.9 MiB [] 14% 3.8s\u001b[0K\u001b[1G164.9 MiB [] 14% 3.9s\u001b[0K\u001b[1G164.9 MiB [] 15% 3.8s\u001b[0K\u001b[1G164.9 MiB [] 16% 3.7s\u001b[0K\u001b[1G164.9 MiB [] 17% 3.6s\u001b[0K\u001b[1G164.9 MiB [] 18% 3.5s\u001b[0K\u001b[1G164.9 MiB [] 19% 3.5s\u001b[0K\u001b[1G164.9 MiB [] 20% 3.4s\u001b[0K\u001b[1G164.9 MiB [] 21% 3.3s\u001b[0K\u001b[1G164.9 MiB [] 22% 3.3s\u001b[0K\u001b[1G164.9 MiB [] 23% 3.2s\u001b[0K\u001b[1G164.9 MiB [] 24% 3.2s\u001b[0K\u001b[1G164.9 MiB [] 25% 3.2s\u001b[0K\u001b[1G164.9 MiB [] 25% 3.1s\u001b[0K\u001b[1G164.9 MiB [] 26% 3.0s\u001b[0K\u001b[1G164.9 MiB [] 27% 2.9s\u001b[0K\u001b[1G164.9 MiB [] 27% 3.0s\u001b[0K\u001b[1G164.9 MiB [] 28% 2.9s\u001b[0K\u001b[1G164.9 MiB [] 29% 2.8s\u001b[0K\u001b[1G164.9 MiB [] 30% 2.7s\u001b[0K\u001b[1G164.9 MiB [] 31% 2.7s\u001b[0K\u001b[1G164.9 MiB [] 32% 2.6s\u001b[0K\u001b[1G164.9 MiB [] 33% 2.5s\u001b[0K\u001b[1G164.9 MiB [] 34% 2.5s\u001b[0K\u001b[1G164.9 MiB [] 35% 2.5s\u001b[0K\u001b[1G164.9 MiB [] 35% 2.4s\u001b[0K\u001b[1G164.9 MiB [] 36% 2.4s\u001b[0K\u001b[1G164.9 MiB [] 37% 2.4s\u001b[0K\u001b[1G164.9 MiB [] 38% 2.3s\u001b[0K\u001b[1G164.9 MiB [] 39% 2.3s\u001b[0K\u001b[1G164.9 MiB [] 40% 2.2s\u001b[0K\u001b[1G164.9 MiB [] 41% 2.2s\u001b[0K\u001b[1G164.9 MiB [] 42% 2.2s\u001b[0K\u001b[1G164.9 MiB [] 43% 2.2s\u001b[0K\u001b[1G164.9 MiB [] 44% 2.2s\u001b[0K\u001b[1G164.9 MiB [] 45% 2.2s\u001b[0K\u001b[1G164.9 MiB [] 45% 2.1s\u001b[0K\u001b[1G164.9 MiB [] 46% 2.1s\u001b[0K\u001b[1G164.9 MiB [] 47% 2.0s\u001b[0K\u001b[1G164.9 MiB [] 48% 2.0s\u001b[0K\u001b[1G164.9 MiB [] 49% 2.0s\u001b[0K\u001b[1G164.9 MiB [] 50% 1.9s\u001b[0K\u001b[1G164.9 MiB [] 51% 1.9s\u001b[0K\u001b[1G164.9 MiB [] 52% 1.8s\u001b[0K\u001b[1G164.9 MiB [] 53% 1.8s\u001b[0K\u001b[1G164.9 MiB [] 54% 1.7s\u001b[0K\u001b[1G164.9 MiB [] 55% 1.7s\u001b[0K\u001b[1G164.9 MiB [] 56% 1.7s\u001b[0K\u001b[1G164.9 MiB [] 57% 1.6s\u001b[0K\u001b[1G164.9 MiB [] 58% 1.6s\u001b[0K\u001b[1G164.9 MiB [] 59% 1.5s\u001b[0K\u001b[1G164.9 MiB [] 60% 1.5s\u001b[0K\u001b[1G164.9 MiB [] 61% 1.4s\u001b[0K\u001b[1G164.9 MiB [] 62% 1.4s\u001b[0K\u001b[1G164.9 MiB [] 63% 1.4s\u001b[0K\u001b[1G164.9 MiB [] 63% 1.3s\u001b[0K\u001b[1G164.9 MiB [] 64% 1.3s\u001b[0K\u001b[1G164.9 MiB [] 65% 1.3s\u001b[0K\u001b[1G164.9 MiB [] 66% 1.3s\u001b[0K\u001b[1G164.9 MiB [] 67% 1.2s\u001b[0K\u001b[1G164.9 MiB [] 68% 1.2s\u001b[0K\u001b[1G164.9 MiB [] 69% 1.2s\u001b[0K\u001b[1G164.9 MiB [] 69% 1.1s\u001b[0K\u001b[1G164.9 MiB [] 70% 1.1s\u001b[0K\u001b[1G164.9 MiB [] 71% 1.1s\u001b[0K\u001b[1G164.9 MiB [] 72% 1.0s\u001b[0K\u001b[1G164.9 MiB [] 72% 1.1s\u001b[0K\u001b[1G164.9 MiB [] 72% 1.0s\u001b[0K\u001b[1G164.9 MiB [] 73% 1.0s\u001b[0K\u001b[1G164.9 MiB [] 74% 1.0s\u001b[0K\u001b[1G164.9 MiB [] 75% 1.0s\u001b[0K\u001b[1G164.9 MiB [] 76% 0.9s\u001b[0K\u001b[1G164.9 MiB [] 77% 0.9s\u001b[0K\u001b[1G164.9 MiB [] 78% 0.8s\u001b[0K\u001b[1G164.9 MiB [] 79% 0.8s\u001b[0K\u001b[1G164.9 MiB [] 80% 0.8s\u001b[0K\u001b[1G164.9 MiB [] 80% 0.7s\u001b[0K\u001b[1G164.9 MiB [] 81% 0.7s\u001b[0K\u001b[1G164.9 MiB [] 82% 0.7s\u001b[0K\u001b[1G164.9 MiB [] 83% 0.6s\u001b[0K\u001b[1G164.9 MiB [] 84% 0.6s\u001b[0K\u001b[1G164.9 MiB [] 85% 0.6s\u001b[0K\u001b[1G164.9 MiB [] 85% 0.5s\u001b[0K\u001b[1G164.9 MiB [] 86% 0.5s\u001b[0K\u001b[1G164.9 MiB [] 87% 0.5s\u001b[0K\u001b[1G164.9 MiB [] 88% 0.5s\u001b[0K\u001b[1G164.9 MiB [] 88% 0.4s\u001b[0K\u001b[1G164.9 MiB [] 89% 0.4s\u001b[0K\u001b[1G164.9 MiB [] 90% 0.4s\u001b[0K\u001b[1G164.9 MiB [] 91% 0.3s\u001b[0K\u001b[1G164.9 MiB [] 92% 0.3s\u001b[0K\u001b[1G164.9 MiB [] 93% 0.3s\u001b[0K\u001b[1G164.9 MiB [] 93% 0.2s\u001b[0K\u001b[1G164.9 MiB [] 94% 0.2s\u001b[0K\u001b[1G164.9 MiB [] 95% 0.2s\u001b[0K\u001b[1G164.9 MiB [] 96% 0.1s\u001b[0K\u001b[1G164.9 MiB [] 97% 0.1s\u001b[0K\u001b[1G164.9 MiB [] 98% 0.1s\u001b[0K\u001b[1G164.9 MiB [] 99% 0.0s\u001b[0K\u001b[1G164.9 MiB [] 100% 0.0s\u001b[0K\n",
            "Chromium 134.0.6998.35 (playwright build v1161) downloaded to /root/.cache/ms-playwright/chromium-1161\n",
            "Downloading FFMPEG playwright build v1011\u001b[2m from https://cdn.playwright.dev/dbazure/download/playwright/builds/ffmpeg/1011/ffmpeg-linux.zip\u001b[22m\n",
            "\u001b[1G2.3 MiB [] 0% 0.0s\u001b[0K\u001b[1G2.3 MiB [] 23% 0.1s\u001b[0K\u001b[1G2.3 MiB [] 62% 0.0s\u001b[0K\u001b[1G2.3 MiB [] 100% 0.0s\u001b[0K\n",
            "FFMPEG playwright build v1011 downloaded to /root/.cache/ms-playwright/ffmpeg-1011\n",
            "Downloading Chromium Headless Shell 134.0.6998.35 (playwright build v1161)\u001b[2m from https://cdn.playwright.dev/dbazure/download/playwright/builds/chromium/1161/chromium-headless-shell-linux.zip\u001b[22m\n",
            "\u001b[1G100.9 MiB [] 0% 0.0s\u001b[0K\u001b[1G100.9 MiB [] 0% 10.5s\u001b[0K\u001b[1G100.9 MiB [] 0% 4.1s\u001b[0K\u001b[1G100.9 MiB [] 1% 2.9s\u001b[0K\u001b[1G100.9 MiB [] 2% 2.5s\u001b[0K\u001b[1G100.9 MiB [] 3% 2.3s\u001b[0K\u001b[1G100.9 MiB [] 4% 2.2s\u001b[0K\u001b[1G100.9 MiB [] 5% 2.2s\u001b[0K\u001b[1G100.9 MiB [] 6% 2.1s\u001b[0K\u001b[1G100.9 MiB [] 7% 2.0s\u001b[0K\u001b[1G100.9 MiB [] 8% 1.9s\u001b[0K\u001b[1G100.9 MiB [] 9% 1.9s\u001b[0K\u001b[1G100.9 MiB [] 10% 1.8s\u001b[0K\u001b[1G100.9 MiB [] 10% 1.9s\u001b[0K\u001b[1G100.9 MiB [] 11% 1.9s\u001b[0K\u001b[1G100.9 MiB [] 12% 1.9s\u001b[0K\u001b[1G100.9 MiB [] 13% 1.9s\u001b[0K\u001b[1G100.9 MiB [] 15% 1.7s\u001b[0K\u001b[1G100.9 MiB [] 16% 1.7s\u001b[0K\u001b[1G100.9 MiB [] 17% 1.6s\u001b[0K\u001b[1G100.9 MiB [] 19% 1.5s\u001b[0K\u001b[1G100.9 MiB [] 20% 1.4s\u001b[0K\u001b[1G100.9 MiB [] 22% 1.4s\u001b[0K\u001b[1G100.9 MiB [] 23% 1.3s\u001b[0K\u001b[1G100.9 MiB [] 24% 1.3s\u001b[0K\u001b[1G100.9 MiB [] 26% 1.2s\u001b[0K\u001b[1G100.9 MiB [] 28% 1.2s\u001b[0K\u001b[1G100.9 MiB [] 30% 1.1s\u001b[0K\u001b[1G100.9 MiB [] 31% 1.1s\u001b[0K\u001b[1G100.9 MiB [] 33% 1.0s\u001b[0K\u001b[1G100.9 MiB [] 35% 0.9s\u001b[0K\u001b[1G100.9 MiB [] 37% 0.9s\u001b[0K\u001b[1G100.9 MiB [] 39% 0.9s\u001b[0K\u001b[1G100.9 MiB [] 40% 0.8s\u001b[0K\u001b[1G100.9 MiB [] 41% 0.8s\u001b[0K\u001b[1G100.9 MiB [] 42% 0.8s\u001b[0K\u001b[1G100.9 MiB [] 42% 0.9s\u001b[0K\u001b[1G100.9 MiB [] 43% 0.9s\u001b[0K\u001b[1G100.9 MiB [] 44% 0.9s\u001b[0K\u001b[1G100.9 MiB [] 45% 0.9s\u001b[0K\u001b[1G100.9 MiB [] 46% 0.9s\u001b[0K\u001b[1G100.9 MiB [] 47% 0.9s\u001b[0K\u001b[1G100.9 MiB [] 48% 0.9s\u001b[0K\u001b[1G100.9 MiB [] 49% 0.9s\u001b[0K\u001b[1G100.9 MiB [] 50% 0.9s\u001b[0K\u001b[1G100.9 MiB [] 51% 0.9s\u001b[0K\u001b[1G100.9 MiB [] 52% 0.8s\u001b[0K\u001b[1G100.9 MiB [] 53% 0.8s\u001b[0K\u001b[1G100.9 MiB [] 54% 0.8s\u001b[0K\u001b[1G100.9 MiB [] 54% 1.5s\u001b[0K\u001b[1G100.9 MiB [] 56% 1.4s\u001b[0K\u001b[1G100.9 MiB [] 57% 1.4s\u001b[0K\u001b[1G100.9 MiB [] 58% 1.3s\u001b[0K\u001b[1G100.9 MiB [] 60% 1.3s\u001b[0K\u001b[1G100.9 MiB [] 61% 1.2s\u001b[0K\u001b[1G100.9 MiB [] 62% 1.2s\u001b[0K\u001b[1G100.9 MiB [] 63% 1.1s\u001b[0K\u001b[1G100.9 MiB [] 64% 1.1s\u001b[0K\u001b[1G100.9 MiB [] 66% 1.0s\u001b[0K\u001b[1G100.9 MiB [] 68% 0.9s\u001b[0K\u001b[1G100.9 MiB [] 69% 0.9s\u001b[0K\u001b[1G100.9 MiB [] 71% 0.8s\u001b[0K\u001b[1G100.9 MiB [] 72% 0.8s\u001b[0K\u001b[1G100.9 MiB [] 74% 0.7s\u001b[0K\u001b[1G100.9 MiB [] 75% 0.7s\u001b[0K\u001b[1G100.9 MiB [] 76% 0.6s\u001b[0K\u001b[1G100.9 MiB [] 78% 0.6s\u001b[0K\u001b[1G100.9 MiB [] 80% 0.5s\u001b[0K\u001b[1G100.9 MiB [] 82% 0.5s\u001b[0K\u001b[1G100.9 MiB [] 83% 0.4s\u001b[0K\u001b[1G100.9 MiB [] 85% 0.4s\u001b[0K\u001b[1G100.9 MiB [] 87% 0.3s\u001b[0K\u001b[1G100.9 MiB [] 89% 0.3s\u001b[0K\u001b[1G100.9 MiB [] 91% 0.2s\u001b[0K\u001b[1G100.9 MiB [] 93% 0.2s\u001b[0K\u001b[1G100.9 MiB [] 95% 0.1s\u001b[0K\u001b[1G100.9 MiB [] 97% 0.0s\u001b[0K\u001b[1G100.9 MiB [] 100% 0.0s\u001b[0K\n",
            "Chromium Headless Shell 134.0.6998.35 (playwright build v1161) downloaded to /root/.cache/ms-playwright/chromium_headless_shell-1161\n"
          ]
        }
      ]
    },
    {
      "cell_type": "code",
      "source": [
        "!pip install playwright python-dotenv\n"
      ],
      "metadata": {
        "colab": {
          "base_uri": "https://localhost:8080/"
        },
        "id": "3ttZYPYQ803E",
        "outputId": "13bc8f19-c943-435f-98e3-0afc3e6ed93a"
      },
      "execution_count": 9,
      "outputs": [
        {
          "output_type": "stream",
          "name": "stdout",
          "text": [
            "Requirement already satisfied: playwright in /usr/local/lib/python3.11/dist-packages (1.51.0)\n",
            "Collecting python-dotenv\n",
            "  Downloading python_dotenv-1.1.0-py3-none-any.whl.metadata (24 kB)\n",
            "Requirement already satisfied: pyee<13,>=12 in /usr/local/lib/python3.11/dist-packages (from playwright) (12.1.1)\n",
            "Requirement already satisfied: greenlet<4.0.0,>=3.1.1 in /usr/local/lib/python3.11/dist-packages (from playwright) (3.2.0)\n",
            "Requirement already satisfied: typing-extensions in /usr/local/lib/python3.11/dist-packages (from pyee<13,>=12->playwright) (4.13.2)\n",
            "Downloading python_dotenv-1.1.0-py3-none-any.whl (20 kB)\n",
            "Installing collected packages: python-dotenv\n",
            "Successfully installed python-dotenv-1.1.0\n"
          ]
        }
      ]
    },
    {
      "cell_type": "code",
      "source": [
        "import asyncio\n",
        "import json\n",
        "import os\n",
        "from playwright.async_api import async_playwright, TimeoutError\n",
        "import nest_asyncio\n",
        "\n",
        "nest_asyncio.apply()\n",
        "\n",
        "async def main():\n",
        "    session_file = \"session.json\"\n",
        "    output_file = \"product_data.json\"\n",
        "\n",
        "    email = \"chhajed.aum@gmail.com\"\n",
        "    password = \"JGSMDiux\"\n",
        "\n",
        "    async with async_playwright() as p:\n",
        "        browser = await p.chromium.launch(headless=True)\n",
        "        context = await browser.new_context()\n",
        "\n",
        "        session_exists = False\n",
        "        if os.path.exists(session_file):\n",
        "            try:\n",
        "                with open(session_file, \"r\") as f:\n",
        "                    storage_state = json.load(f)\n",
        "                    await context.set_storage_state(storage_state)\n",
        "                    session_exists = True\n",
        "                    print(\"✅ Loaded existing session.\")\n",
        "            except Exception as e:\n",
        "                print(f\"⚠ Error loading session: {e}\")\n",
        "\n",
        "        page = await context.new_page()\n",
        "        print(\"🌐 Navigating to homepage...\")\n",
        "        await page.goto(\"https://hiring.idenhq.com\")\n",
        "\n",
        "        if not session_exists or await page.is_visible(\"text=Sign in\"):\n",
        "            print(\"🔐 Logging in...\")\n",
        "            await page.wait_for_selector(\"input[type='email']\", timeout=120000)\n",
        "            await page.fill(\"input[type='email']\", email)\n",
        "            await page.fill(\"input[type='password']\", password)\n",
        "            await page.click(\"button:has-text('Sign in')\")\n",
        "            await page.wait_for_load_state(\"networkidle\")\n",
        "            storage_state = await context.storage_state()\n",
        "            with open(session_file, \"w\") as f:\n",
        "                json.dump(storage_state, f)\n",
        "            print(\"💾 Session saved.\")\n",
        "\n",
        "        try:\n",
        "            print(\"🚀 Launching challenge...\")\n",
        "            await page.click(\"button:has-text('Launch Challenge')\", timeout=120000)\n",
        "            print(\"📂 Opening dashboard menu...\")\n",
        "            await page.click(\"button:has-text('Open Dashboard Menu')\", timeout=120000)\n",
        "            print(\"🛠 Clicking 'Data Tools'...\")\n",
        "            await page.click(\"text=Data Tools\", timeout=120000)\n",
        "            await page.click(\"text=Data Tools\", timeout=120000)\n",
        "            print(\"📦 Accessing Inventory Options...\")\n",
        "            await page.wait_for_selector(\"button:has-text('Inventory Options')\", timeout=120000)\n",
        "            await page.click(\"button:has-text('Inventory Options')\")\n",
        "            print(\"🛍 Opening Products Drawer...\")\n",
        "            await page.click(\"text=Open Products Drawer\", timeout=120000)\n",
        "            await page.wait_for_timeout(2000)\n",
        "            await page.wait_for_selector(\"div.grid\", timeout=300000)\n",
        "        except TimeoutError as te:\n",
        "            await page.screenshot(path=\"timeout_error.png\")\n",
        "            print(f\"⛔ Timeout occurred: {te}\")\n",
        "            await browser.close()\n",
        "            return\n",
        "\n",
        "        async def extract_card_products():\n",
        "            products = []\n",
        "            product_cards = await page.query_selector_all(\"div.grid > div\")\n",
        "            print(f\"🧾 Found {len(product_cards)} product cards.\")\n",
        "\n",
        "            with open(\"raw_grid_dump.txt\", \"w\", encoding=\"utf-8\") as f:\n",
        "                for idx, card in enumerate(product_cards):\n",
        "                    try:\n",
        "                        full_text = await card.inner_text()\n",
        "                        f.write(f\"\\n--- Card {idx+1} ---\\n{full_text}\\n\")\n",
        "                        print(f\"\\n🔹 Card {idx+1} Text:\\n{full_text}\\n\")\n",
        "\n",
        "                        lines = full_text.strip().split('\\n')\n",
        "                        if len(lines) >= 4:\n",
        "                            product = {\n",
        "                                \"ID\": lines[0],\n",
        "                                \"Dimensions\": lines[1],\n",
        "                                \"Details\": lines[2],\n",
        "                                \"Type\": lines[3]\n",
        "                            }\n",
        "                            products.append(product)\n",
        "                    except Exception as e:\n",
        "                        print(f\"⚠ Error processing card {idx+1}: {e}\")\n",
        "                        continue\n",
        "\n",
        "            return products\n",
        "\n",
        "        print(\"🔍 Extracting products from cards...\")\n",
        "        all_products = await extract_card_products()\n",
        "\n",
        "        with open(output_file, \"w\", encoding=\"utf-8\") as f:\n",
        "            json.dump(all_products, f, indent=2)\n",
        "        print(f\"✅ Extracted {len(all_products)} products to {output_file}\")\n",
        "\n",
        "        await browser.close()\n",
        "\n",
        "await main()\n"
      ],
      "metadata": {
        "colab": {
          "base_uri": "https://localhost:8080/"
        },
        "id": "MT3nsi7dc_RN",
        "outputId": "88e81984-9293-4b84-89b2-871372e8c71d"
      },
      "execution_count": 51,
      "outputs": [
        {
          "output_type": "stream",
          "name": "stdout",
          "text": [
            "⚠ Error loading session: 'BrowserContext' object has no attribute 'set_storage_state'\n",
            "🌐 Navigating to homepage...\n",
            "🔐 Logging in...\n",
            "💾 Session saved.\n",
            "🚀 Launching challenge...\n",
            "📂 Opening dashboard menu...\n",
            "🛠 Clicking 'Data Tools'...\n",
            "📦 Accessing Inventory Options...\n",
            "🛍 Opening Products Drawer...\n",
            "🔍 Extracting products from cards...\n",
            "🧾 Found 2 product cards.\n",
            "\n",
            "🔹 Card 1 Text:\n",
            "Step 3 completed\n",
            "\n",
            "\n",
            "🔹 Card 2 Text:\n",
            "Continue to the next step.\n",
            "\n",
            "✅ Extracted 0 products to product_data.json\n"
          ]
        }
      ]
    }
  ]
}